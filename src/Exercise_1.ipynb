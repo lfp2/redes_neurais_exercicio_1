{
 "cells": [
  {
   "cell_type": "markdown",
   "metadata": {},
   "source": [
    "# Libraries"
   ]
  },
  {
   "cell_type": "code",
   "execution_count": 31,
   "metadata": {},
   "outputs": [],
   "source": [
    "import pickle\n",
    "import gzip\n",
    "import numpy as np\n",
    "import random"
   ]
  },
  {
   "cell_type": "markdown",
   "metadata": {},
   "source": [
    "# Creating a Network\n",
    "<p>Inicialmente, criamos a seguinte classe para representar uma rede neural. Ela é inicializada a partir de um array contendo quantos neurônios serão usados para cada camada - por exemplo, uma rede com 2 neurônios na primeira camada, 3 na camada escondida e 1 na camada final, seria representada por Network([2,3,1]).\\n</p>\n",
    "<p>Sobre a inicialização das bias e dos pesos, a primeira camada é considerada como input e por isso não sofre alterações de bias. Todos os pesos são inicializados aleatoriamente, usando o randn para distribuições com média 0 e desvio padrão igual a 1.</p>"
   ]
  },
  {
   "cell_type": "markdown",
   "metadata": {},
   "source": [
    "O método feedfoward retorna o resultado da rede caso receba um ndarry Numpy a como entrada, usando a função sigmoid definida mais abaixo."
   ]
  },
  {
   "cell_type": "markdown",
   "metadata": {},
   "source": [
    "Para aprender, a rede usará um gradient descent estocástico - que é um método interativo, uma otimização que torna o processo incremental, usando amostras dos dados a cada passo. Os dados de treino recebido é uma lista de tuplas (x,y) com os dados de treino e suas verdadeiras saídas. Eta é o learning rate utilizado. Test_data é opcional e vai ser usado para testar o progresso da rede depois de cada epoch de treinamento e printa o resultado parcial - porém vai deixar todo o processo mais lento. Número de epochs será quantas vezes os pesos da rede neural irá mudar. Mini_batch_size será o tamanho de cada amostra usada no processo do SGD."
   ]
  },
  {
   "cell_type": "markdown",
   "metadata": {},
   "source": [
    "### Usando o update_mini_batch\n",
    "É aqui que os pesos e bias da rede serão atualizados, utilizando backpropagation para calcular de forma mais rápida o gradiente da função custo - computando isso para cada exemplo de treino no mini_batch, que é uma parte aleatória do nosso conjunto de treinamento.\n",
    "\n"
   ]
  },
  {
   "cell_type": "code",
   "execution_count": 32,
   "metadata": {},
   "outputs": [],
   "source": [
    "class Network(object):\n",
    "    def __init__(self, sizes):\n",
    "        self.num_layers = len(sizes)\n",
    "        self.sizes = sizes\n",
    "        self.biases = [np.random.randn(y,1) for y in sizes[1:]]\n",
    "        self.weights = [np.random.randn(y,x) for x, y in zip(sizes[:-1],sizes[1:])]\n",
    "        \n",
    "    def feedforward(self, a):\n",
    "        for b, w in zip(self.biases, self.weights):\n",
    "            a = sigmoid(np.dot(w, a)+b)\n",
    "        return a\n",
    "    \n",
    "    def SGD(self, training_data, epochs, mini_batch_size, eta,\n",
    "            test_data=None):\n",
    "        if test_data: n_test = len(test_data)\n",
    "        n = len(training_data)\n",
    "        for j in range(epochs):\n",
    "            random.shuffle(training_data)\n",
    "            mini_batches = [\n",
    "                training_data[k:k+mini_batch_size]\n",
    "                for k in range(0, n, mini_batch_size)]\n",
    "            for mini_batch in mini_batches:\n",
    "                self.update_mini_batch(mini_batch, eta)\n",
    "            if test_data:\n",
    "                print(\"Epoch {0}: {1} / {2}\".format(\n",
    "                    j, self.evaluate(test_data), n_test))\n",
    "            else:\n",
    "                print(\"Epoch {0} complete\".format(j))\n",
    "   \n",
    "    def update_mini_batch(self, mini_batch, eta):\n",
    "        nabla_b = [np.zeros(b.shape) for b in self.biases]\n",
    "        nabla_w = [np.zeros(w.shape) for w in self.weights]\n",
    "        for x, y in mini_batch:\n",
    "            delta_nabla_b, delta_nabla_w = self.backprop(x, y)\n",
    "            nabla_b = [nb+dnb for nb, dnb in zip(nabla_b, delta_nabla_b)]\n",
    "            nabla_w = [nw+dnw for nw, dnw in zip(nabla_w, delta_nabla_w)]\n",
    "        self.weights = [w-(eta/len(mini_batch))*nw \n",
    "                        for w, nw in zip(self.weights, nabla_w)]\n",
    "        self.biases = [b-(eta/len(mini_batch))*nb \n",
    "                       for b, nb in zip(self.biases, nabla_b)]\n",
    "        \n",
    "    def backprop(self, x, y):\n",
    "        \"\"\"Return a tuple ``(nabla_b, nabla_w)`` representing the\n",
    "        gradient for the cost function C_x.  ``nabla_b`` and\n",
    "        ``nabla_w`` are layer-by-layer lists of numpy arrays, similar\n",
    "        to ``self.biases`` and ``self.weights``.\"\"\"\n",
    "        nabla_b = [np.zeros(b.shape) for b in self.biases]\n",
    "        nabla_w = [np.zeros(w.shape) for w in self.weights]\n",
    "        # feedforward\n",
    "        activation = x\n",
    "        activations = [x] # list to store all the activations, layer by layer\n",
    "        zs = [] # list to store all the z vectors, layer by layer\n",
    "        for b, w in zip(self.biases, self.weights):\n",
    "            z = np.dot(w, activation)+b\n",
    "            zs.append(z)\n",
    "            activation = sigmoid(z)\n",
    "            activations.append(activation)\n",
    "        # backward pass\n",
    "        delta = self.cost_derivative(activations[-1], y) * \\\n",
    "            sigmoid_prime(zs[-1])\n",
    "        nabla_b[-1] = delta\n",
    "        nabla_w[-1] = np.dot(delta, activations[-2].transpose())\n",
    "        # Note that the variable l in the loop below is used a little\n",
    "        # differently to the notation in Chapter 2 of the book.  Here,\n",
    "        # l = 1 means the last layer of neurons, l = 2 is the\n",
    "        # second-last layer, and so on.  It's a renumbering of the\n",
    "        # scheme in the book, used here to take advantage of the fact\n",
    "        # that Python can use negative indices in lists.\n",
    "        for l in range(2, self.num_layers):\n",
    "            z = zs[-l]\n",
    "            sp = sigmoid_prime(z)\n",
    "            delta = np.dot(self.weights[-l+1].transpose(), delta) * sp\n",
    "            nabla_b[-l] = delta\n",
    "            nabla_w[-l] = np.dot(delta, activations[-l-1].transpose())\n",
    "        return (nabla_b, nabla_w)\n",
    "    \n",
    "    def evaluate(self, test_data):\n",
    "        \"\"\"Return the number of test inputs for which the neural\n",
    "        network outputs the correct result. Note that the neural\n",
    "        network's output is assumed to be the index of whichever\n",
    "        neuron in the final layer has the highest activation.\"\"\"\n",
    "        test_results = [(np.argmax(self.feedforward(x)), y)\n",
    "                        for (x, y) in test_data]\n",
    "        return sum(int(x == y) for (x, y) in test_results)\n",
    "\n",
    "    def cost_derivative(self, output_activations, y):\n",
    "        \"\"\"Return the vector of partial derivatives \\partial C_x /\n",
    "        \\partial a for the output activations.\"\"\"\n",
    "        return (output_activations-y)"
   ]
  },
  {
   "cell_type": "markdown",
   "metadata": {},
   "source": [
    "## Building the sigmoid function\n",
    "Ao invés de utilizarmos a forma que utiliza somatório para calcular o Sigmoid(uma versão suavizada da função step - que retorna sempre 0 e 1), definida como a expressão:\n",
    "<p align=\"middle\">1/(1+exp(−∑jwjxj−b))</p>\n",
    "Utilizaremos a versão vetorizada da expressão, definida como:\n",
    "<p align=\"middle\">a' = σ(w*a+b)</p>\n",
    "\n",
    "Onde a é o vetor de ativação da primeira camada a ser processada, w é o vetor de pesos e b é o vetor de bias. Em seguida, é aplicada a função sigmoid, retornando a equação:\n",
    "\n",
    "<p align=\"middle\">1/(1+exp(w*a+b)) </p>"
   ]
  },
  {
   "cell_type": "code",
   "execution_count": 33,
   "metadata": {},
   "outputs": [],
   "source": [
    "def sigmoid(z):\n",
    "    return 1/(1.0+np.exp(-z))\n",
    "\n",
    "def sigmoid_prime(z):\n",
    "    return sigmoid(z)*(1-sigmoid(z))"
   ]
  },
  {
   "cell_type": "markdown",
   "metadata": {},
   "source": [
    "## Loading Data from MNIST\n",
    "Utilizaremos o load data feito pelo tutorial utilizado como referência"
   ]
  },
  {
   "cell_type": "code",
   "execution_count": 34,
   "metadata": {},
   "outputs": [],
   "source": [
    "\n",
    "def load_data():\n",
    "    with gzip.open('../data/mnist.pkl.gz','rb') as f:\n",
    "        u = pickle._Unpickler(f)\n",
    "        u.encoding = 'latin1'\n",
    "        training_data, validation_data, test_data = u.load()\n",
    "    return (training_data, validation_data, test_data)\n",
    "\n",
    "def load_data_wrapper():\n",
    "    tr_d, va_d, te_d = load_data()\n",
    "    training_inputs = [np.reshape(x, (784, 1)) for x in tr_d[0]]\n",
    "    training_results = [vectorized_result(y) for y in tr_d[1]]\n",
    "    training_data = list(zip(training_inputs, training_results))\n",
    "    validation_inputs = [np.reshape(x, (784, 1)) for x in va_d[0]]\n",
    "    validation_data = list(zip(validation_inputs, va_d[1]))\n",
    "    test_inputs = [np.reshape(x, (784, 1)) for x in te_d[0]]\n",
    "    test_data = list(zip(test_inputs, te_d[1]))\n",
    "    return (training_data, validation_data, test_data)\n",
    "\n",
    "def vectorized_result(j):\n",
    "    e = np.zeros((10, 1))\n",
    "    e[j] = 1.0\n",
    "    return e"
   ]
  },
  {
   "cell_type": "code",
   "execution_count": 35,
   "metadata": {},
   "outputs": [],
   "source": [
    "training_data, validation_data, test_data = load_data_wrapper()\n"
   ]
  },
  {
   "cell_type": "code",
   "execution_count": 36,
   "metadata": {},
   "outputs": [
    {
     "name": "stdout",
     "output_type": "stream",
     "text": [
      "Epoch 0: 9040 / 10000\n",
      "Epoch 1: 9201 / 10000\n",
      "Epoch 2: 9274 / 10000\n",
      "Epoch 3: 9340 / 10000\n",
      "Epoch 4: 9346 / 10000\n",
      "Epoch 5: 9402 / 10000\n",
      "Epoch 6: 9402 / 10000\n",
      "Epoch 7: 9412 / 10000\n",
      "Epoch 8: 9415 / 10000\n",
      "Epoch 9: 9431 / 10000\n",
      "Epoch 10: 9433 / 10000\n",
      "Epoch 11: 9445 / 10000\n",
      "Epoch 12: 9461 / 10000\n",
      "Epoch 13: 9464 / 10000\n",
      "Epoch 14: 9426 / 10000\n",
      "Epoch 15: 9445 / 10000\n",
      "Epoch 16: 9469 / 10000\n",
      "Epoch 17: 9492 / 10000\n",
      "Epoch 18: 9486 / 10000\n",
      "Epoch 19: 9470 / 10000\n",
      "Epoch 20: 9506 / 10000\n",
      "Epoch 21: 9484 / 10000\n",
      "Epoch 22: 9482 / 10000\n",
      "Epoch 23: 9499 / 10000\n",
      "Epoch 24: 9479 / 10000\n",
      "Epoch 25: 9503 / 10000\n",
      "Epoch 26: 9484 / 10000\n",
      "Epoch 27: 9484 / 10000\n",
      "Epoch 28: 9477 / 10000\n",
      "Epoch 29: 9477 / 10000\n"
     ]
    }
   ],
   "source": [
    "net = Network([784,30,10])\n",
    "net.SGD(training_data,30,10,3.0,test_data = test_data)"
   ]
  },
  {
   "cell_type": "code",
   "execution_count": 38,
   "metadata": {},
   "outputs": [
    {
     "name": "stdout",
     "output_type": "stream",
     "text": [
      "Epoch 0: 9494 / 10000\n",
      "Epoch 1: 9507 / 10000\n",
      "Epoch 2: 9495 / 10000\n",
      "Epoch 3: 9458 / 10000\n",
      "Epoch 4: 9508 / 10000\n",
      "Epoch 5: 9493 / 10000\n",
      "Epoch 6: 9484 / 10000\n",
      "Epoch 7: 9480 / 10000\n",
      "Epoch 8: 9496 / 10000\n",
      "Epoch 9: 9507 / 10000\n",
      "Epoch 10: 9496 / 10000\n",
      "Epoch 11: 9494 / 10000\n",
      "Epoch 12: 9459 / 10000\n",
      "Epoch 13: 9509 / 10000\n",
      "Epoch 14: 9494 / 10000\n",
      "Epoch 15: 9489 / 10000\n",
      "Epoch 16: 9488 / 10000\n",
      "Epoch 17: 9499 / 10000\n",
      "Epoch 18: 9496 / 10000\n",
      "Epoch 19: 9458 / 10000\n",
      "Epoch 20: 9503 / 10000\n",
      "Epoch 21: 9499 / 10000\n",
      "Epoch 22: 9497 / 10000\n",
      "Epoch 23: 9506 / 10000\n",
      "Epoch 24: 9496 / 10000\n",
      "Epoch 25: 9495 / 10000\n",
      "Epoch 26: 9483 / 10000\n",
      "Epoch 27: 9510 / 10000\n",
      "Epoch 28: 9485 / 10000\n",
      "Epoch 29: 9501 / 10000\n"
     ]
    }
   ],
   "source": [
    "net2 = Network([784, 100, 10])\n",
    "net.SGD(training_data, 30, 10, 3.0, test_data=test_data)"
   ]
  }
 ],
 "metadata": {
  "kernelspec": {
   "display_name": "Python 3",
   "language": "python",
   "name": "python3"
  },
  "language_info": {
   "codemirror_mode": {
    "name": "ipython",
    "version": 3
   },
   "file_extension": ".py",
   "mimetype": "text/x-python",
   "name": "python",
   "nbconvert_exporter": "python",
   "pygments_lexer": "ipython3",
   "version": "3.5.2"
  }
 },
 "nbformat": 4,
 "nbformat_minor": 2
}
