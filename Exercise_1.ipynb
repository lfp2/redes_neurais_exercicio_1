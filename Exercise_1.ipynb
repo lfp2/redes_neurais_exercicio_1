{
 "cells": [
  {
   "cell_type": "markdown",
   "metadata": {},
   "source": [
    "# Libraries"
   ]
  },
  {
   "cell_type": "code",
   "execution_count": 2,
   "metadata": {},
   "outputs": [],
   "source": [
    "import _pickle as cPickle\n",
    "import gzip\n",
    "import numpy as np\n",
    "import random"
   ]
  },
  {
   "cell_type": "markdown",
   "metadata": {},
   "source": [
    "# Creating a Network\n",
    "<p>Inicialmente, criamos a seguinte classe para representar uma rede neural. Ela é inicializada a partir de um array contendo quantos neurônios serão usados para cada camada - por exemplo, uma rede com 2 neurônios na primeira camada, 3 na camada escondida e 1 na camada final, seria representada por Network([2,3,1]).\\n</p>\n",
    "<p>Sobre a inicialização das bias e dos pesos, a primeira camada é considerada como input e por isso não sofre alterações de bias. Todos os pesos são inicializados aleatoriamente, usando o randn para distribuições com média 0 e desvio padrão igual a 1.</p>"
   ]
  },
  {
   "cell_type": "code",
   "execution_count": 3,
   "metadata": {},
   "outputs": [],
   "source": [
    "class Network(object):\n",
    "    def __init__(self, sizes):\n",
    "        self.num_layers = len(sizes)\n",
    "        self.sizes = sizes\n",
    "        self.biases = [np.random.randn(y,1) for y in sizes[1:]]\n",
    "        self.weights = [np.random.randn(y,x) for x, y in zip(sizes[:-1],sizes[1:])]"
   ]
  },
  {
   "cell_type": "markdown",
   "metadata": {},
   "source": [
    "## Building the sigmoid function\n",
    "Ao invés de utilizarmos a forma que utiliza somatório para calcular o Sigmoid(uma versão suavizada da função step - que retorna sempre 0 e 1), definida como a expressão:\n",
    "<p align=\"middle\">1/(1+exp(−∑jwjxj−b))</p>\n",
    "Utilizaremos a versão vetorizada da expressão, definida como:\n",
    "<p align=\"middle\">a' = σ(w*a+b)</p>\n",
    "\n",
    "Onde a é o vetor de ativação da primeira camada a ser processada, w é o vetor de pesos e b é o vetor de bias. Em seguida, é aplicada a função sigmoid, retornando a equação:\n",
    "\n",
    "<p align=\"middle\">1/(1+exp(w*a+b)) </p>"
   ]
  },
  {
   "cell_type": "code",
   "execution_count": 5,
   "metadata": {},
   "outputs": [],
   "source": [
    "def sigmoid(z):\n",
    "    return 1/(1.0+np.exp(-z))\n",
    "\n",
    "def sigmoid_prime(z):\n",
    "    return sigmoid(z)*(1-sigmoid(z))"
   ]
  }
 ],
 "metadata": {
  "kernelspec": {
   "display_name": "Python 3",
   "language": "python",
   "name": "python3"
  },
  "language_info": {
   "codemirror_mode": {
    "name": "ipython",
    "version": 3
   },
   "file_extension": ".py",
   "mimetype": "text/x-python",
   "name": "python",
   "nbconvert_exporter": "python",
   "pygments_lexer": "ipython3",
   "version": "3.5.2"
  }
 },
 "nbformat": 4,
 "nbformat_minor": 2
}
